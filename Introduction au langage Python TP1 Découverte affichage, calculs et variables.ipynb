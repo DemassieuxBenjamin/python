{
 "cells": [
  {
   "cell_type": "markdown",
   "metadata": {},
   "source": [
    "# Arithmétiques et variables\n",
    "\n",
    "**Effectuer des calculs, définir et modifier des variables**\n",
    "\n",
    "Bienvenue au cours d'introduction à la programmation avec Python ! Ce cours est fait pour vous si vous n'avez jamais écrit une seule ligne de code et que vous êtes intéressé par le langage Python.\n",
    "\n",
    "Dans ce cours, vous apprendrez à utiliser le code pour qu'un ordinateur effectue certaines tâches à votre place. Python est l'un des langages de programmation les plus populairess et c'est le langage que vous apprendrez dans ce cours. Une fois que vous aurez terminé ce cours, vous serez parfaitement préparé pour passer au cours Python.\n",
    "\n",
    "Dans ce tutoriel, vous verrez plusieurs exemples de code Python. Vous aurez l'occasion d'écrire votre propre code dans l'exercice. (Si vous souhaitez avoir un aperçu de l'exercice, n'hésitez pas à y jeter un coup d'œil maintenant. Nous fournissons également un lien vers l'exercice à la fin de ce tutoriel).\n",
    "\n"
   ]
  },
  {
   "cell_type": "markdown",
   "metadata": {},
   "source": [
    "## Print\n",
    "\n",
    "L'une des tâches les plus simples (et les plus importantes !) que l'on puisse demander à un ordinateur est d'afficher un message.\n",
    "\n",
    "En Python, nous demandons à l'ordinateur d'afficher un message pour nous en écrivant ```print()``` et en plaçant le message entre parenthèses et entre guillemets. Ci-dessous, nous demandons à l'ordinateur d'imprimer le message ```\"Hello, world\"```."
   ]
  },
  {
   "cell_type": "code",
   "execution_count": 1,
   "metadata": {},
   "outputs": [
    {
     "name": "stdout",
     "output_type": "stream",
     "text": [
      "Hello, world\n"
     ]
    }
   ],
   "source": [
    "print(\"Hello, world\")"
   ]
  },
  {
   "cell_type": "markdown",
   "metadata": {},
   "source": [
    "Le code se trouve à l'intérieur de la boîte (appelée cellule de code) et la réponse de l'ordinateur (appelée sortie du code) est affichée sous la boîte. Comme vous pouvez le voir, l'ordinateur a imprimé le message que nous voulions."
   ]
  },
  {
   "cell_type": "markdown",
   "metadata": {},
   "source": [
    "## Arithmétique\n",
    "\n",
    "Nous pouvons également imprimer la valeur d'une opération arithmétique (telle que l'addition, la soustraction, la multiplication ou la division).\n",
    "\n",
    "Par exemple, dans la cellule de code suivante, l'ordinateur ajoute 2 à 1 et affiche le résultat, qui est 3. Notez que contrairement à l'impression de texte, nous n'utilisons pas de guillemets."
   ]
  },
  {
   "cell_type": "code",
   "execution_count": 2,
   "metadata": {},
   "outputs": [
    {
     "name": "stdout",
     "output_type": "stream",
     "text": [
      "3\n"
     ]
    }
   ],
   "source": [
    "print(1+2)"
   ]
  },
  {
   "cell_type": "markdown",
   "metadata": {},
   "source": [
    "Nous pouvons également effectuer des soustractions en python. La cellule de code suivante soustrait 5 de 9 et imprime le résultat, qui est 4."
   ]
  },
  {
   "cell_type": "code",
   "execution_count": 3,
   "metadata": {},
   "outputs": [
    {
     "name": "stdout",
     "output_type": "stream",
     "text": [
      "4\n"
     ]
    }
   ],
   "source": [
    "print(9-5)"
   ]
  },
  {
   "cell_type": "markdown",
   "metadata": {},
   "source": [
    "Il est possible de faire beaucoup de calculs avec Python ! Voir le tableau ci-dessous pour quelques exemples.\n",
    "\n",
    "| Opération|Symbole| Exemple |\n",
    "| :---------------:|:---------------:| :-----:|\n",
    "| Addition  |   +        |  1+2=3 |\n",
    "| Soustraction  | - |   5-4=1 |\n",
    "| Multiplication| * |   2*4=8|\n",
    "| Division | / | 6/2=3|\n",
    "| Exposant | ** | 2**3=8|\n"
   ]
  },
  {
   "cell_type": "markdown",
   "metadata": {},
   "source": [
    "Les parenthèses permettent de contrôler l'ordre des opérations dans les calculs longs."
   ]
  },
  {
   "cell_type": "code",
   "execution_count": 4,
   "metadata": {},
   "outputs": [
    {
     "name": "stdout",
     "output_type": "stream",
     "text": [
      "196.0\n"
     ]
    }
   ],
   "source": [
    "print(((1 + 3) * (9 - 2) / 2) ** 2)"
   ]
  },
  {
   "cell_type": "markdown",
   "metadata": {},
   "source": [
    "En général, Python suit la règle PEMDAS pour décider de l'ordre des opérations."
   ]
  },
  {
   "cell_type": "markdown",
   "metadata": {},
   "source": [
    "## Les commentaires\n",
    "\n",
    "Nous utilisons les commentaires pour annoter ce que fait le code. Ils aident les autres à comprendre votre code, et ils peuvent également être utiles si vous n'avez pas regardé votre propre code depuis un certain temps. Jusqu'à présent, le code que nous avons écrit est très court, mais les annotations deviennent plus importantes lorsque vous avez écrit beaucoup de code.\n",
    "\n",
    "Par exemple, dans la cellule de code suivante, nous multiplions 3 par 2. Nous ajoutons également un commentaire (``# Multiplier 3 par 2``) au-dessus du code pour décrire ce que fait le code."
   ]
  },
  {
   "cell_type": "code",
   "execution_count": 5,
   "metadata": {},
   "outputs": [
    {
     "name": "stdout",
     "output_type": "stream",
     "text": [
      "6\n"
     ]
    }
   ],
   "source": [
    "# Multiplier 3 par 2 \n",
    "print(3*2)"
   ]
  },
  {
   "cell_type": "markdown",
   "metadata": {},
   "source": [
    "Pour indiquer à Python qu'une ligne est un commentaire (et non du code Python), vous devez écrire un dièse (#) comme tout premier caractère.\n",
    "\n",
    "Une fois que Python voit le signe dièse et reconnaît que la ligne est un commentaire, l'ordinateur l'ignore complètement. C'est important, car tout comme l'anglais ou le français (ou toute autre langue !), Python est un langage avec des règles très strictes qui doivent être respectées. Python est cependant plus strict qu'un auditeur humain, et se contentera d'une erreur s'il ne peut pas comprendre le code.\n",
    "\n",
    "Nous pouvons en voir un exemple dans la cellule de code ci-dessous. Python commet une erreur si nous supprimons le signe dièse, car le texte du commentaire n'est pas un code Python valide, et ne peut donc pas être interprété correctement."
   ]
  },
  {
   "cell_type": "code",
   "execution_count": 6,
   "metadata": {},
   "outputs": [
    {
     "ename": "SyntaxError",
     "evalue": "invalid syntax (<ipython-input-6-eb1b82743cb7>, line 1)",
     "output_type": "error",
     "traceback": [
      "\u001b[1;36m  File \u001b[1;32m\"<ipython-input-6-eb1b82743cb7>\"\u001b[1;36m, line \u001b[1;32m1\u001b[0m\n\u001b[1;33m    multiplier 2 par 2\u001b[0m\n\u001b[1;37m               ^\u001b[0m\n\u001b[1;31mSyntaxError\u001b[0m\u001b[1;31m:\u001b[0m invalid syntax\n"
     ]
    }
   ],
   "source": [
    "multiplier 2 par 2 "
   ]
  },
  {
   "cell_type": "markdown",
   "metadata": {},
   "source": [
    "## Variables\n",
    "\n",
    "Jusqu'à présent, vous avez utilisé du code pour effectuer un calcul et imprimer le résultat, et ce dernier n'est enregistré nulle part. Cependant, vous pouvez imaginer que vous voudrez peut-être enregistrer le résultat pour le retravailler plus tard. Pour ce faire, vous devez utiliser des **variables**."
   ]
  },
  {
   "cell_type": "markdown",
   "metadata": {},
   "source": [
    "### Création de variables\n",
    "\n",
    "La cellule de code suivante crée une variable nommée ``test_var`` et lui attribue la valeur que nous obtenons lorsque nous ajoutons 5 à 4.\n",
    "\n",
    "Nous affichons ensuite la valeur assignée à la variable, qui est 9."
   ]
  },
  {
   "cell_type": "code",
   "execution_count": 5,
   "metadata": {},
   "outputs": [
    {
     "name": "stdout",
     "output_type": "stream",
     "text": [
      "9\n"
     ]
    }
   ],
   "source": [
    "# Création d'une variable appelée test_var et donne la valeur de 4+5\n",
    "test_var = 4 + 5\n",
    "\n",
    "# Afficher la valeur de test_var\n",
    "print(test_var)"
   ]
  },
  {
   "cell_type": "markdown",
   "metadata": {},
   "source": [
    "En général, pour travailler avec une variable, vous devez commencer par sélectionner le nom que vous souhaitez utiliser. Les noms de variables sont idéalement courts et descriptifs. Ils doivent également satisfaire à plusieurs exigences :\n",
    "\n",
    "* Ils ne peuvent pas comporter d'espaces (par exemple, ``test var`` n'est pas autorisé).\n",
    "* Ils ne peuvent contenir que des lettres, des chiffres et des traits de soulignement (par exemple, ``test_var !`` n'est pas autorisé).\n",
    "* Elles doivent commencer par une lettre ou un trait de soulignement (par exemple, ``1_var`` n'est pas autorisé).\n",
    "\n",
    "Ensuite, pour créer la variable, vous devez utiliser ``=`` pour lui attribuer la valeur que vous souhaitez lui donner.\n",
    "\n",
    "Vous pouvez toujours consulter la valeur attribuée à la variable en utilisant ``print()`` et en mettant le nom de la variable entre parenthèses.\n",
    "\n",
    "Au fil du temps, vous apprendrez à choisir de bons noms pour les variables Python. Il n'y a pas de mal à se sentir mal à l'aise pour l'instant, et la meilleure façon d'apprendre est de visualiser un grand nombre de codes Python !"
   ]
  },
  {
   "cell_type": "markdown",
   "metadata": {},
   "source": [
    "### Manipulation des variables\n",
    "\n",
    "Il est toujours possible de modifier la valeur attribuée à une variable en remplaçant la valeur précédente.\n",
    "\n",
    "Dans la cellule de code ci-dessous, nous modifions la valeur de ``ma_var`` de 3 à 100."
   ]
  },
  {
   "cell_type": "code",
   "execution_count": 3,
   "metadata": {},
   "outputs": [
    {
     "name": "stdout",
     "output_type": "stream",
     "text": [
      "3\n",
      "100\n"
     ]
    }
   ],
   "source": [
    "# Fixer la valeur d'une nouvelle variable à 3\n",
    "my_var = 3\n",
    "\n",
    "# Imprimer la valeur attribuée à my_var\n",
    "print(my_var)\n",
    "\n",
    "# Change la valeur de la variable en 100\n",
    "my_var = 100\n",
    "\n",
    "# Imprime la nouvelle valeur attribuée à my_var\n",
    "print(my_var)"
   ]
  },
  {
   "cell_type": "markdown",
   "metadata": {},
   "source": [
    "Notez qu'en général, chaque fois que vous définissez une variable dans une cellule de code, toutes les cellules de code qui suivent ont également accès à la variable. Par exemple, nous utilisons la cellule de code suivante pour accéder aux valeurs de ``my_var`` (de la cellule de code ci-dessus) et de ``test_var`` (de la cellule de code précédente)."
   ]
  },
  {
   "cell_type": "code",
   "execution_count": 6,
   "metadata": {},
   "outputs": [
    {
     "name": "stdout",
     "output_type": "stream",
     "text": [
      "100\n",
      "9\n"
     ]
    }
   ],
   "source": [
    "print(my_var)\n",
    "print(test_var)"
   ]
  },
  {
   "cell_type": "markdown",
   "metadata": {},
   "source": [
    "La cellule de code suivante indique à Python d'augmenter la valeur actuelle de ``my_var`` de 3.\n",
    "\n",
    "Pour ce faire, nous devons utiliser ``my_var =`` comme précédemment. Et comme précédemment, la nouvelle valeur que nous voulons assigner à la variable se trouve à droite du signe ``=``."
   ]
  },
  {
   "cell_type": "code",
   "execution_count": 9,
   "metadata": {},
   "outputs": [
    {
     "name": "stdout",
     "output_type": "stream",
     "text": [
      "109\n"
     ]
    }
   ],
   "source": [
    "# Augmente la valeur de 3ab\n",
    "my_var = my_var + 3\n",
    "\n",
    "# Affiche la valeur assignée à my_var\n",
    "print(my_var)"
   ]
  },
  {
   "cell_type": "markdown",
   "metadata": {},
   "source": [
    "### Utilisation de variables multiples\n",
    "\n",
    "Il est courant que le code utilise plusieurs variables. C'est particulièrement utile lorsque nous devons effectuer un long calcul avec plusieurs entrées.\n",
    "\n",
    "Dans la cellule de code suivante, nous calculons le nombre de secondes dans quatre ans. Ce calcul utilise cinq entrées."
   ]
  },
  {
   "cell_type": "code",
   "execution_count": 12,
   "metadata": {},
   "outputs": [
    {
     "name": "stdout",
     "output_type": "stream",
     "text": [
      "126144000\n"
     ]
    }
   ],
   "source": [
    "# création des variables\n",
    "nbr_annees = 4\n",
    "jours_par_an = 365 \n",
    "heures_par_jour = 24\n",
    "mins_par_heure = 60\n",
    "secondes_par_min = 60\n",
    "\n",
    "# Calculer le nombre de secondes sur quatre ans\n",
    "total_secs = secondes_par_min * mins_par_heure * heures_par_jour * jours_par_an * nbr_annees\n",
    "print(total_secs)"
   ]
  },
  {
   "cell_type": "markdown",
   "metadata": {},
   "source": [
    "Comme calculé ci-dessus, il y a 126144000 secondes en quatre ans.\n",
    "\n",
    "Notez qu'il est possible de faire ce calcul sans variables en utilisant simplement ``60 * 60 * 24 * 365 * 4``, mais il est beaucoup plus difficile de vérifier que le calcul sans variables ne comporte pas d'erreur, car il n'est pas aussi lisible. Lorsque nous utilisons des variables (telles que ``nbr_annees``, ``jours_par_an``, etc.), nous pouvons mieux suivre chaque partie du calcul et vérifier et corriger plus facilement les éventuelles erreurs.\n",
    "\n",
    "Notez qu'il est particulièrement utile d'utiliser des variables lorsque les valeurs des entrées peuvent changer. Par exemple, supposons que nous voulions améliorer légèrement notre estimation en mettant à jour la valeur du nombre de jours dans une année de 365 à 365,25, pour tenir compte des années bissextiles. Nous pouvons alors modifier la valeur attribuée à jours_par_année sans changer aucune des autres variables et refaire le calcul."
   ]
  },
  {
   "cell_type": "code",
   "execution_count": 13,
   "metadata": {},
   "outputs": [
    {
     "name": "stdout",
     "output_type": "stream",
     "text": [
      "126230400.0\n"
     ]
    }
   ],
   "source": [
    "# Mise à jour pour inclure les années bissextiles\n",
    "jours_par_an = 365.25\n",
    "\n",
    "# Calculer le nombre de secondes sur quatre ans\n",
    "total_secs = secondes_par_min * mins_par_heure * heures_par_jour * jours_par_an * nbr_annees\n",
    "print(total_secs)"
   ]
  },
  {
   "cell_type": "markdown",
   "metadata": {},
   "source": [
    "## Débogage\n",
    "\n",
    "Une erreur fréquente lorsque l'on travaille avec des variables est d'introduire accidentellement des fautes de frappe. Par exemple, si nous épelons ``heures_par_jour`` comme ``heures_par_jor``, Python affichera le message ``NameError : name 'heures_par_jor'`` is not defined (erreur de nom : le nom 'heures_par_jor' n'est pas défini)."
   ]
  },
  {
   "cell_type": "code",
   "execution_count": 14,
   "metadata": {},
   "outputs": [
    {
     "ename": "NameError",
     "evalue": "name 'heures_par_jor' is not defined",
     "output_type": "error",
     "traceback": [
      "\u001b[1;31m---------------------------------------------------------------------------\u001b[0m",
      "\u001b[1;31mNameError\u001b[0m                                 Traceback (most recent call last)",
      "\u001b[1;32m<ipython-input-14-2fc75b3e5295>\u001b[0m in \u001b[0;36m<module>\u001b[1;34m\u001b[0m\n\u001b[1;32m----> 1\u001b[1;33m \u001b[0mprint\u001b[0m\u001b[1;33m(\u001b[0m\u001b[0mheures_par_jor\u001b[0m\u001b[1;33m)\u001b[0m\u001b[1;33m\u001b[0m\u001b[1;33m\u001b[0m\u001b[0m\n\u001b[0m",
      "\u001b[1;31mNameError\u001b[0m: name 'heures_par_jor' is not defined"
     ]
    }
   ],
   "source": [
    "print(heures_par_jor)"
   ]
  },
  {
   "cell_type": "markdown",
   "metadata": {},
   "source": [
    "Lorsque vous voyez ``NameError`` comme ceci, c'est une indication que vous devez vérifier l'orthographe de la variable qu'il référence comme \"non définie\". Ensuite, pour corriger l'erreur, il suffit de corriger l'orthographe."
   ]
  },
  {
   "cell_type": "code",
   "execution_count": 15,
   "metadata": {},
   "outputs": [
    {
     "name": "stdout",
     "output_type": "stream",
     "text": [
      "24\n"
     ]
    }
   ],
   "source": [
    "print(heures_par_jour)"
   ]
  },
  {
   "cell_type": "markdown",
   "metadata": {},
   "source": [
    "## Exercices\n",
    "\n",
    "Ces exercices vous permettront de commencer à exécuter votre propre code.\n",
    "\n",
    "Mise en place du notebook\n",
    "\n",
    "Pour commencer, exécutez le code dans la cellule suivante.\n",
    "\n",
    "* Commencez par cliquer à l'intérieur de la cellule de code.\n",
    "* Cliquez sur le triangle Exécuter (en forme de \"bouton de lecture\") qui apparaît en haut de la page du notebook.\n",
    "Si votre code a été exécuté avec succès, le message Setup Complete apparaît sous la cellule.\n",
    "\n",
    "Au lieu de cliquer sur le triangle, vous pouvez également exécuter le code en appuyant sur les touches **Maj + Entrée** de votre clavier. Essayez-le maintenant ! Rien de grave ne se produira si vous exécutez le code plus d'une fois."
   ]
  },
  {
   "cell_type": "markdown",
   "metadata": {},
   "source": [
    "### Exercice 1\n",
    "Ensuite, vous allez exécuter un peu de code du tutoriel, afin de voir comment il fonctionne par vous-même. Exécutez la cellule de code suivante sans la modifier pour afficher le message :"
   ]
  },
  {
   "cell_type": "markdown",
   "metadata": {},
   "source": [
    "print(\"Hello, world\")"
   ]
  },
  {
   "cell_type": "markdown",
   "metadata": {},
   "source": [
    "### Exercice 2\n",
    "\n",
    "Vous allez maintenant afficher un autre message de votre choix. Pour ce faire, modifiez print(\"Votre message ici !\") pour utiliser un message différent. Par exemple, vous pourriez le remplacer par quelque chose comme :\n",
    "\n",
    "* ``print(\"Bonjour !\")``\n",
    "* ``print(\"J'apprends à coder :D\")``\n",
    "\n",
    "Ou encore, vous pourriez voir ce qui se passe si vous écrivez quelque chose comme ``print(\"3+4\")``. Est-ce qu'il renvoie 7, ou est-ce qu'il considère simplement \"3+4\" comme un autre message ?\n",
    "\n",
    "Assurez-vous que votre message est entre guillemets (\"), et que le message lui-même n'utilise pas de guillemets. Par exemple, l'erreur suivante se produira : print(\"She said \"great job\" and gave me a high-five !\") parce que le message contient des guillemets. Si vous décidez de suivre le cours Python après avoir terminé ce cours, vous en apprendrez plus sur la manière d'éviter cette erreur dans la leçon suivante.\n",
    "\n",
    "N'hésitez pas à essayer plusieurs messages !"
   ]
  },
  {
   "cell_type": "code",
   "execution_count": null,
   "metadata": {},
   "outputs": [],
   "source": [
    "# OBJECTIF : Modifier la ligne de code pour afficher votre message\n",
    "print(\"Ton message ici!\")\n",
    "#Ne pas oublier d'excuter votre code!"
   ]
  },
  {
   "cell_type": "markdown",
   "metadata": {},
   "source": [
    "### Exercice 3¶\n",
    "\n",
    "Comme vous l'avez appris dans le tutoriel, un commentaire en Python est précédé d'un signe dièse (``#``), qui indique à Python d'ignorer le texte qui le suit.\n",
    "\n",
    "En plaçant un dièse devant une ligne de code, Python ignorera ce code. Par exemple, cette ligne sera ignorée par Python et rien n'apparaîtra dans la sortie :\n",
    "\n",
    "``#print(1+2)``\n",
    "\n",
    "En supprimant le signe dièse, vous pourrez à nouveau exécuter le code. Lorsque nous supprimons le dièse devant une ligne de code, nous appelons cela décommenter.\n",
    "\n",
    "Dans ce problème, vous allez décommenter deux lignes dans la cellule de code ci-dessous et voir le résultat :"
   ]
  },
  {
   "cell_type": "code",
   "execution_count": 16,
   "metadata": {},
   "outputs": [],
   "source": [
    "#print(\"1+2\")\n",
    "#print(\"déccommenter\")"
   ]
  },
  {
   "cell_type": "markdown",
   "metadata": {},
   "source": [
    "### Exercice 4\n",
    "\n",
    "Dans le tutoriel, vous avez défini plusieurs variables pour calculer le nombre total de secondes dans une année.\n",
    "\n",
    "Utilisez la cellule de code suivante pour :\n",
    "* Définir une variable ``naissances_par_min`` et la fixer à 250. (Il y a en moyenne 250 bébés qui naissent chaque minute).\n",
    "* Définir une variable ``naissances_par_jour`` qui contient le nombre moyen de bébés nés chaque jour. (Pour définir la valeur de cette variable, vous devez utiliser ``naissances_par_min`` et certaines des variables de la cellule de code précédente).\n",
    "\n",
    "N'oubliez pas que vous pouvez toujours obtenir un indice si vous en avez besoin !\n",
    "Dans la cellule de code ci-dessous, remplacez les soulignements (``____``) par du code."
   ]
  },
  {
   "cell_type": "code",
   "execution_count": null,
   "metadata": {},
   "outputs": [],
   "source": [
    "# OBJECTIF: Affecter une valeur à la variable naissances_par_min\n",
    "naissances_par_min = ____\n",
    "\n",
    "# OBJECTIF: Affecter une valeur à la variable naissances_par_jour\n",
    "naissances_par jour = ____\n",
    "\n",
    "#OBJECTIF : Afficher votre résultat\n",
    "______"
   ]
  },
  {
   "cell_type": "markdown",
   "metadata": {},
   "source": [
    "### Exercice 5\n",
    "\n",
    "Le RMS Titanic est un paquebot transatlantique britannique qui a fait naufrage dans l'océan Atlantique Nord en 1912 à la suite d'une collision avec un iceberg. \n",
    "\n",
    "Le navire transportait 2 201 personnes parmi les passagers 106 étaient des enfants de moins de 12 ans. 1 500 personnes trouvèrent la mort pendant le naufrage.\n",
    "\n",
    "Votre objectif est de créer des variables pour calculer le nombre de rescapés et la proportion des enfants de moins de 12 ans parmi les passagers."
   ]
  },
  {
   "cell_type": "code",
   "execution_count": 17,
   "metadata": {},
   "outputs": [],
   "source": [
    "# OBJECTIF : Affecter une valeur à la variable passagers\n",
    "passager = ___\n",
    "\n",
    "# OBJECTIF : Créer une variable disparues puis affecter sa valeur\n",
    "\n",
    "\n",
    "# OBJECTIF : Créer une varialbe enfants puis affecter sa valeur\n",
    "\n",
    "\n",
    "# OBJECTIF : Créer une variable pour calculer le nombre de rescapés puis afficher le résultat\n",
    "\n",
    "\n",
    "\n",
    "# OBJECTIF : Créer une variable pour calculer la porportion d'enfants de moins de 12 ans parmi les passager\n",
    "# puis afficher le résultat\n",
    "\n",
    "\n"
   ]
  }
 ],
 "metadata": {
  "kernelspec": {
   "display_name": "Python 3",
   "language": "python",
   "name": "python3"
  },
  "language_info": {
   "codemirror_mode": {
    "name": "ipython",
    "version": 3
   },
   "file_extension": ".py",
   "mimetype": "text/x-python",
   "name": "python",
   "nbconvert_exporter": "python",
   "pygments_lexer": "ipython3",
   "version": "3.8.5"
  }
 },
 "nbformat": 4,
 "nbformat_minor": 4
}
